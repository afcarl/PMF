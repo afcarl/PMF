{
 "metadata": {
  "name": "",
  "signature": "sha256:9ea6f287e11e74ead5d49bcccebcaf3d03ca8b2fc6b41d510e10e900c550842a"
 },
 "nbformat": 3,
 "nbformat_minor": 0,
 "worksheets": [
  {
   "cells": [
    {
     "cell_type": "code",
     "collapsed": false,
     "input": [
      "from __future__ import division\n",
      "\n",
      "import numpy as np\n",
      "from scipy import sparse\n",
      "import sys\n",
      "\n",
      "\n",
      "class PMF:\n",
      "\n",
      "    k = 25            # threshold for 'few' ratings\n",
      "    K = 0.015         # ID this ???\n",
      "    min_iter = 100    # minimum number of iterations\n",
      "    min_imp = 1e-4    # improvement threshold\n",
      "    lambda_ = 0.02    # regularization component\n",
      "\n",
      "\n",
      "    def __init__(self, file_path, rank=40, init=0.1):\n",
      "        \n",
      "        self.rank=rank\n",
      "        \n",
      "        self.sparse_matrix = self._load_data(file_path)\n",
      "        matrix = self.sparse_matrix.todense()\n",
      "        \n",
      "        self.mu, user_bias, item_bias = self.baseline(matrix)\n",
      "        self.user_matrix = self._create_matrix(user_bias, rank, init)\n",
      "        self.item_matrix = self._create_matrix(item_bias, rank, init)\n",
      "        \n",
      "        self.sparse_matrix = self._load_data(file_path)\n",
      "        users, items = self.sparse_matrix.nonzero()\n",
      "        self.user_pseudo_rating = dict.fromkeys(users)\n",
      "        self.item_pseudo_rating = dict.fromkeys(items)\n",
      "        self._compute_pseudo_averages()\n",
      "\n",
      "\n",
      "    def baseline(self, matrix):\n",
      "        '''\n",
      "        Returns the global average rating, user bias, and item bias.\n",
      "        '''\n",
      "        mu = self._get_mu(matrix)\n",
      "        user_bias = mu - [self._get_mu(matrix[:,i]) for i in xrange((matrix.shape[1]))]\n",
      "        item_bias = mu - [self._get_mu(matrix[i,:]) for i in xrange((matrix.shape[0]))]\n",
      "        return mu, user_bias, item_bias\n",
      "\n",
      "\n",
      "    def _get_mu(self, x):\n",
      "        return np.nansum(x) / np.count_nonzero(~np.isnan(x))\n",
      "\n",
      "\n",
      "    def _create_matrix(self, bias, rank, init):\n",
      "        return np.ones((rank, bias.shape[0])) * init\n",
      "\n",
      "\n",
      "    def _get_user_rating(self, user_id):\n",
      "        user_reviews = self.sparse_matrix[user_id]\n",
      "        user_reviews = user_reviews.toarray().ravel()\n",
      "        user_rated_items, = np.where(user_reviews > 0)\n",
      "        user_ratings = user_reviews[user_rated_items]\n",
      "        return user_ratings\n",
      "\n",
      "\n",
      "    def _get_item_rating(self, item_id):\n",
      "        item_reviews = self.sparse_matrix[:, item_id]\n",
      "        item_reviews = item_reviews.toarray().ravel()\n",
      "        item_rated_users = np.where(item_reviews > 0)\n",
      "        item_ratings = item_reviews[item_rated_users]\n",
      "        return item_ratings\n",
      "\n",
      "\n",
      "    def _calculate_pseudo_average_user(self, user_id, k=k):\n",
      "        user_ratings = self._get_user_rating(user_id)\n",
      "        user_adj = (self.mu * k + np.sum(user_ratings))\n",
      "        norm_factor = (k + np.size(user_ratings))\n",
      "        return user_adj / norm_factor\n",
      "\n",
      "\n",
      "    def _calculate_pseudo_average_item(self, item_id, k=k):\n",
      "        item_ratings = self._get_item_rating(item_id)\n",
      "        item_adj = (self.mu * k + np.sum(item_ratings))\n",
      "        norm_factor = (k + np.size(item_ratings))\n",
      "        return item_adj / norm_factor\n",
      "\n",
      "\n",
      "    def _user_bias(self, user_id):\n",
      "        return self.user_pseudo_rating[user_id] - self.mu\n",
      "\n",
      "\n",
      "    def _item_bias(self, item_id):\n",
      "        return self.item_pseudo_rating[item_id] - self.mu\n",
      "\n",
      "\n",
      "    def _compute_pseudo_averages(self):\n",
      "        for user in self.user_pseudo_rating.keys():\n",
      "            self.user_pseudo_rating[user] = self._calculate_pseudo_average_user(user)\n",
      "        for item in self.item_pseudo_rating.keys():\n",
      "            self.item_pseudo_rating[item] = self._calculate_pseudo_average_item(item)\n",
      "        return None\n",
      "            \n",
      "\n",
      "    def get_rating(self, user_id, item_id):\n",
      "        return self.sparse_matrix[user_id, item_id]\n",
      "\n",
      "\n",
      "    def predict(self, user_id, item_id):\n",
      "        try:\n",
      "            return np.dot(self.item_matrix[:, item_id], self.user_matrix[:, user_id])\n",
      "        except:\n",
      "            print('user: {userid}, item: {itemid}'.format(userid=user_id, itemid=item_id))\n",
      "            return np.dot(self.item_matrix[:, item_id], self.user_matrix[:, user_id])\n",
      "            \n",
      "            \n",
      "    def calc_error(self, user_id, item_id):\n",
      "        r_ij = self.get_rating(user_id, item_id)\n",
      "        mu = self.mu\n",
      "        user_bias = self._user_bias(user_id)\n",
      "        item_bias = self._item_bias(item_id)\n",
      "        r_hat = self.predict(user_id, item_id)\n",
      "        return (r_ij - mu - user_bias - item_bias - r_hat)\n",
      "\n",
      "\n",
      "    def train(self, user_id, item_id, feature_id, alpha=0.005, K=K):\n",
      "        '''\n",
      "        '''\n",
      "        err = self.calc_error(user_id, item_id)\n",
      "\n",
      "        user_feature_vector = self.user_matrix[feature_id]\n",
      "        item_feature_vector = self.item_matrix[feature_id]\n",
      "\n",
      "        user_feature_value = user_feature_vector[user_id]\n",
      "        item_feature_value = item_feature_vector[item_id]\n",
      "\n",
      "        user_feature_vector[user_id] += alpha * (err * item_feature_value - K * user_feature_value)\n",
      "        item_feature_vector[item_id] += alpha * (err * user_feature_value - K * item_feature_value)\n",
      "\n",
      "        return err ** 2\n",
      "\n",
      "\n",
      "    def calculate_features(self):\n",
      "        mse = 0\n",
      "        last_mse = 0\n",
      "        n_ratings = np.count_nonzero(self.sparse_matrix.toarray().ravel())\n",
      "        users, items = self.sparse_matrix.nonzero()\n",
      "        for feature in xrange(self.rank):\n",
      "            j = 0\n",
      "            while (j < self.min_iter) or (mse < last_mse - self.min_imp):\n",
      "                squared_error = 0\n",
      "                last_mse = mse\n",
      "\n",
      "                for user_id, item_id in zip(users, items):\n",
      "                    squared_error += self.train(user_id, item_id, feature)\n",
      "\n",
      "                mse = (squared_error / n_ratings)\n",
      "                print('MSE = {mse}'.format(mse=str(mse)))\n",
      "                j += 1\n",
      "                sys.stdout.flush()\n",
      "            print('Feature = {feature_id}'.format(str(feature)))\n",
      "        print('Converged')\n",
      "\n",
      "\n",
      "    @staticmethod\n",
      "    def _load_data(file_path):\n",
      "        '''\n",
      "        Accepts a tab-delimited file with first three columns as\n",
      "            user, item, value.\n",
      "        Returns sparse matrix.\n",
      "        '''\n",
      "        with open(file_path) as f_in:\n",
      "            data = np.array([[int(tok) for tok in line.split('\\t')[:3]]\n",
      "                        for line in f_in])\n",
      "        ij = data[:, :2]\n",
      "        ij -= 1\n",
      "        values = data[:, 2]\n",
      "        sparse_matrix = sparse.csc_matrix((values, ij.T)).astype(float)\n",
      "        return sparse_matrix\n",
      "\n",
      "\n",
      "    if __name__ == '__main__':\n",
      "        # TODO:\n",
      "        #    * use movielens 100k database to run a sample test\n",
      "        pass"
     ],
     "language": "python",
     "metadata": {},
     "outputs": []
    },
    {
     "cell_type": "code",
     "collapsed": false,
     "input": [
      "tmp = PMF('u1.base')"
     ],
     "language": "python",
     "metadata": {},
     "outputs": []
    },
    {
     "cell_type": "code",
     "collapsed": false,
     "input": [
      "tmp.calculate_features()"
     ],
     "language": "python",
     "metadata": {},
     "outputs": []
    },
    {
     "cell_type": "code",
     "collapsed": false,
     "input": [
      "tmp.sparse_matrix"
     ],
     "language": "python",
     "metadata": {},
     "outputs": [
      {
       "metadata": {},
       "output_type": "pyout",
       "prompt_number": 172,
       "text": [
        "<943x1682 sparse matrix of type '<type 'numpy.float64'>'\n",
        "\twith 80000 stored elements in Compressed Sparse Column format>"
       ]
      }
     ],
     "prompt_number": 172
    },
    {
     "cell_type": "code",
     "collapsed": false,
     "input": [
      "np.dot(tmp.item_matrix[:, 1], tmp.user_matrix[:, 20])"
     ],
     "language": "python",
     "metadata": {},
     "outputs": [
      {
       "metadata": {},
       "output_type": "pyout",
       "prompt_number": 64,
       "text": [
        "0.39985278427083504"
       ]
      }
     ],
     "prompt_number": 64
    },
    {
     "cell_type": "code",
     "collapsed": false,
     "input": [
      "tmp = np.empty((40, 1682))"
     ],
     "language": "python",
     "metadata": {},
     "outputs": [],
     "prompt_number": 38
    },
    {
     "cell_type": "code",
     "collapsed": false,
     "input": [
      "tmp[:, 1].shape"
     ],
     "language": "python",
     "metadata": {},
     "outputs": [
      {
       "metadata": {},
       "output_type": "pyout",
       "prompt_number": 46,
       "text": [
        "(40,)"
       ]
      }
     ],
     "prompt_number": 46
    },
    {
     "cell_type": "code",
     "collapsed": false,
     "input": [
      "users, items = tmp.sparse_matrix.nonzero()"
     ],
     "language": "python",
     "metadata": {},
     "outputs": [],
     "prompt_number": 87
    },
    {
     "cell_type": "code",
     "collapsed": false,
     "input": [],
     "language": "python",
     "metadata": {},
     "outputs": [],
     "prompt_number": 175
    },
    {
     "cell_type": "code",
     "collapsed": false,
     "input": [],
     "language": "python",
     "metadata": {},
     "outputs": [],
     "prompt_number": 175
    },
    {
     "cell_type": "code",
     "collapsed": false,
     "input": [
      "    def calculate_features(self):\n",
      "        mse = 0\n",
      "        last_mse = 0\n",
      "        n_ratings = np.count_nonzero(self.sparse_matrix.toarray().ravel())\n",
      "        users, items = self.sparse_matrix.nonzero()\n",
      "        for feature in xrange(self.rank):\n",
      "            j = 0\n",
      "            while (j < self.min_iter) or (mse < last_mse - self.min_imp):\n",
      "                squared_error = 0\n",
      "                last_mse = mse\n",
      "\n",
      "                for user_id, item_id in zip(users, items):\n",
      "                    squared_error += self.train(user_id, item_id, feature)\n",
      "\n",
      "                mse = (squared_error / n_ratings)\n",
      "                print('MSE = {mse}'.format(mse=str(mse)))\n",
      "                j += 1\n",
      "                sys.stdout.flush()\n",
      "            print('Feature = {feature_id}'.format(str(feature)))\n",
      "        print('Converged')"
     ],
     "language": "python",
     "metadata": {},
     "outputs": [],
     "prompt_number": 131
    },
    {
     "cell_type": "code",
     "collapsed": false,
     "input": [
      "n_ratings = np.count_nonzero(tmp.sparse_matrix.toarray().ravel())"
     ],
     "language": "python",
     "metadata": {},
     "outputs": [],
     "prompt_number": 132
    },
    {
     "cell_type": "code",
     "collapsed": false,
     "input": [
      "users, items = tmp.sparse_matrix.nonzero()"
     ],
     "language": "python",
     "metadata": {},
     "outputs": [],
     "prompt_number": 134
    },
    {
     "cell_type": "code",
     "collapsed": false,
     "input": [
      "squared_error = 0\n",
      "for feature in xrange(tmp.rank):\n",
      "    for user_id, item_id in zip(users, items):\n",
      "        tmp.train(user_id, item_id, feature)"
     ],
     "language": "python",
     "metadata": {},
     "outputs": [
      {
       "output_type": "stream",
       "stream": "stdout",
       "text": [
        "user: 15, item: 944\n"
       ]
      },
      {
       "ename": "IndexError",
       "evalue": "index 944 is out of bounds for axis 1 with size 943",
       "output_type": "pyerr",
       "traceback": [
        "\u001b[0;31m---------------------------------------------------------------------------\u001b[0m\n\u001b[0;31mIndexError\u001b[0m                                Traceback (most recent call last)",
        "\u001b[0;32m<ipython-input-138-f1cca8c4ab79>\u001b[0m in \u001b[0;36m<module>\u001b[0;34m()\u001b[0m\n\u001b[1;32m      2\u001b[0m \u001b[0;32mfor\u001b[0m \u001b[0mfeature\u001b[0m \u001b[0;32min\u001b[0m \u001b[0mxrange\u001b[0m\u001b[0;34m(\u001b[0m\u001b[0mtmp\u001b[0m\u001b[0;34m.\u001b[0m\u001b[0mrank\u001b[0m\u001b[0;34m)\u001b[0m\u001b[0;34m:\u001b[0m\u001b[0;34m\u001b[0m\u001b[0m\n\u001b[1;32m      3\u001b[0m     \u001b[0;32mfor\u001b[0m \u001b[0muser_id\u001b[0m\u001b[0;34m,\u001b[0m \u001b[0mitem_id\u001b[0m \u001b[0;32min\u001b[0m \u001b[0mzip\u001b[0m\u001b[0;34m(\u001b[0m\u001b[0musers\u001b[0m\u001b[0;34m,\u001b[0m \u001b[0mitems\u001b[0m\u001b[0;34m)\u001b[0m\u001b[0;34m:\u001b[0m\u001b[0;34m\u001b[0m\u001b[0m\n\u001b[0;32m----> 4\u001b[0;31m         \u001b[0mtmp\u001b[0m\u001b[0;34m.\u001b[0m\u001b[0mtrain\u001b[0m\u001b[0;34m(\u001b[0m\u001b[0muser_id\u001b[0m\u001b[0;34m,\u001b[0m \u001b[0mitem_id\u001b[0m\u001b[0;34m,\u001b[0m \u001b[0mfeature\u001b[0m\u001b[0;34m)\u001b[0m\u001b[0;34m\u001b[0m\u001b[0m\n\u001b[0m",
        "\u001b[0;32m<ipython-input-126-4077d2bd701a>\u001b[0m in \u001b[0;36mtrain\u001b[0;34m(self, user_id, item_id, feature_id, alpha, K)\u001b[0m\n\u001b[1;32m    121\u001b[0m         '''\n\u001b[1;32m    122\u001b[0m         '''\n\u001b[0;32m--> 123\u001b[0;31m         \u001b[0merr\u001b[0m \u001b[0;34m=\u001b[0m \u001b[0mself\u001b[0m\u001b[0;34m.\u001b[0m\u001b[0mcalc_error\u001b[0m\u001b[0;34m(\u001b[0m\u001b[0muser_id\u001b[0m\u001b[0;34m,\u001b[0m \u001b[0mitem_id\u001b[0m\u001b[0;34m)\u001b[0m\u001b[0;34m\u001b[0m\u001b[0m\n\u001b[0m\u001b[1;32m    124\u001b[0m \u001b[0;34m\u001b[0m\u001b[0m\n\u001b[1;32m    125\u001b[0m         \u001b[0muser_feature_vector\u001b[0m \u001b[0;34m=\u001b[0m \u001b[0mself\u001b[0m\u001b[0;34m.\u001b[0m\u001b[0muser_matrix\u001b[0m\u001b[0;34m[\u001b[0m\u001b[0mfeature_id\u001b[0m\u001b[0;34m]\u001b[0m\u001b[0;34m\u001b[0m\u001b[0m\n",
        "\u001b[0;32m<ipython-input-126-4077d2bd701a>\u001b[0m in \u001b[0;36mcalc_error\u001b[0;34m(self, user_id, item_id)\u001b[0m\n\u001b[1;32m    114\u001b[0m         \u001b[0muser_bias\u001b[0m \u001b[0;34m=\u001b[0m \u001b[0mself\u001b[0m\u001b[0;34m.\u001b[0m\u001b[0m_user_bias\u001b[0m\u001b[0;34m(\u001b[0m\u001b[0muser_id\u001b[0m\u001b[0;34m)\u001b[0m\u001b[0;34m\u001b[0m\u001b[0m\n\u001b[1;32m    115\u001b[0m         \u001b[0mitem_bias\u001b[0m \u001b[0;34m=\u001b[0m \u001b[0mself\u001b[0m\u001b[0;34m.\u001b[0m\u001b[0m_item_bias\u001b[0m\u001b[0;34m(\u001b[0m\u001b[0mitem_id\u001b[0m\u001b[0;34m)\u001b[0m\u001b[0;34m\u001b[0m\u001b[0m\n\u001b[0;32m--> 116\u001b[0;31m         \u001b[0mr_hat\u001b[0m \u001b[0;34m=\u001b[0m \u001b[0mself\u001b[0m\u001b[0;34m.\u001b[0m\u001b[0mpredict\u001b[0m\u001b[0;34m(\u001b[0m\u001b[0muser_id\u001b[0m\u001b[0;34m,\u001b[0m \u001b[0mitem_id\u001b[0m\u001b[0;34m)\u001b[0m\u001b[0;34m\u001b[0m\u001b[0m\n\u001b[0m\u001b[1;32m    117\u001b[0m         \u001b[0;32mreturn\u001b[0m \u001b[0;34m(\u001b[0m\u001b[0mr_ij\u001b[0m \u001b[0;34m-\u001b[0m \u001b[0mmu\u001b[0m \u001b[0;34m-\u001b[0m \u001b[0muser_bias\u001b[0m \u001b[0;34m-\u001b[0m \u001b[0mitem_bias\u001b[0m \u001b[0;34m-\u001b[0m \u001b[0mr_hat\u001b[0m\u001b[0;34m)\u001b[0m\u001b[0;34m\u001b[0m\u001b[0m\n\u001b[1;32m    118\u001b[0m \u001b[0;34m\u001b[0m\u001b[0m\n",
        "\u001b[0;32m<ipython-input-126-4077d2bd701a>\u001b[0m in \u001b[0;36mpredict\u001b[0;34m(self, user_id, item_id)\u001b[0m\n\u001b[1;32m    106\u001b[0m         \u001b[0;32mexcept\u001b[0m\u001b[0;34m:\u001b[0m\u001b[0;34m\u001b[0m\u001b[0m\n\u001b[1;32m    107\u001b[0m             \u001b[0;32mprint\u001b[0m\u001b[0;34m(\u001b[0m\u001b[0;34m'user: {userid}, item: {itemid}'\u001b[0m\u001b[0;34m.\u001b[0m\u001b[0mformat\u001b[0m\u001b[0;34m(\u001b[0m\u001b[0muserid\u001b[0m\u001b[0;34m=\u001b[0m\u001b[0muser_id\u001b[0m\u001b[0;34m,\u001b[0m \u001b[0mitemid\u001b[0m\u001b[0;34m=\u001b[0m\u001b[0mitem_id\u001b[0m\u001b[0;34m)\u001b[0m\u001b[0;34m)\u001b[0m\u001b[0;34m\u001b[0m\u001b[0m\n\u001b[0;32m--> 108\u001b[0;31m             \u001b[0;32mreturn\u001b[0m \u001b[0mnp\u001b[0m\u001b[0;34m.\u001b[0m\u001b[0mdot\u001b[0m\u001b[0;34m(\u001b[0m\u001b[0mself\u001b[0m\u001b[0;34m.\u001b[0m\u001b[0mitem_matrix\u001b[0m\u001b[0;34m[\u001b[0m\u001b[0;34m:\u001b[0m\u001b[0;34m,\u001b[0m \u001b[0mitem_id\u001b[0m\u001b[0;34m]\u001b[0m\u001b[0;34m,\u001b[0m \u001b[0mself\u001b[0m\u001b[0;34m.\u001b[0m\u001b[0muser_matrix\u001b[0m\u001b[0;34m[\u001b[0m\u001b[0;34m:\u001b[0m\u001b[0;34m,\u001b[0m \u001b[0muser_id\u001b[0m\u001b[0;34m]\u001b[0m\u001b[0;34m)\u001b[0m\u001b[0;34m\u001b[0m\u001b[0m\n\u001b[0m\u001b[1;32m    109\u001b[0m \u001b[0;34m\u001b[0m\u001b[0m\n\u001b[1;32m    110\u001b[0m \u001b[0;34m\u001b[0m\u001b[0m\n",
        "\u001b[0;31mIndexError\u001b[0m: index 944 is out of bounds for axis 1 with size 943"
       ]
      }
     ],
     "prompt_number": 138
    },
    {
     "cell_type": "code",
     "collapsed": false,
     "input": [
      "tmp.get_rating(15, 944)"
     ],
     "language": "python",
     "metadata": {},
     "outputs": [
      {
       "metadata": {},
       "output_type": "pyout",
       "prompt_number": 141,
       "text": [
        "4.0"
       ]
      }
     ],
     "prompt_number": 141
    },
    {
     "cell_type": "code",
     "collapsed": false,
     "input": [
      "np.dot(tmp.item_matrix[:, 944], tmp.user_matrix[:, 15])"
     ],
     "language": "python",
     "metadata": {},
     "outputs": [
      {
       "ename": "IndexError",
       "evalue": "index 944 is out of bounds for axis 1 with size 943",
       "output_type": "pyerr",
       "traceback": [
        "\u001b[0;31m---------------------------------------------------------------------------\u001b[0m\n\u001b[0;31mIndexError\u001b[0m                                Traceback (most recent call last)",
        "\u001b[0;32m<ipython-input-178-f67127d74cfc>\u001b[0m in \u001b[0;36m<module>\u001b[0;34m()\u001b[0m\n\u001b[0;32m----> 1\u001b[0;31m \u001b[0mnp\u001b[0m\u001b[0;34m.\u001b[0m\u001b[0mdot\u001b[0m\u001b[0;34m(\u001b[0m\u001b[0mtmp\u001b[0m\u001b[0;34m.\u001b[0m\u001b[0mitem_matrix\u001b[0m\u001b[0;34m[\u001b[0m\u001b[0;34m:\u001b[0m\u001b[0;34m,\u001b[0m \u001b[0;36m944\u001b[0m\u001b[0;34m]\u001b[0m\u001b[0;34m,\u001b[0m \u001b[0mtmp\u001b[0m\u001b[0;34m.\u001b[0m\u001b[0muser_matrix\u001b[0m\u001b[0;34m[\u001b[0m\u001b[0;34m:\u001b[0m\u001b[0;34m,\u001b[0m \u001b[0;36m15\u001b[0m\u001b[0;34m]\u001b[0m\u001b[0;34m)\u001b[0m\u001b[0;34m\u001b[0m\u001b[0m\n\u001b[0m",
        "\u001b[0;31mIndexError\u001b[0m: index 944 is out of bounds for axis 1 with size 943"
       ]
      }
     ],
     "prompt_number": 178
    },
    {
     "cell_type": "code",
     "collapsed": false,
     "input": [
      "squared_error = 0\n",
      "for feature in xrange(tmp.rank):\n",
      "    for user_id, item_id in zip(users, items):\n",
      "        try:\n",
      "            tmp.train(user_id, item_id, feature)\n",
      "        except:\n",
      "            print user_id, item_id, feature\n",
      "            tmp.train(user_id, item_id, feature)\n"
     ],
     "language": "python",
     "metadata": {},
     "outputs": []
    },
    {
     "cell_type": "code",
     "collapsed": false,
     "input": [],
     "language": "python",
     "metadata": {},
     "outputs": [],
     "prompt_number": 185
    },
    {
     "cell_type": "code",
     "collapsed": false,
     "input": [],
     "language": "python",
     "metadata": {},
     "outputs": [],
     "prompt_number": 185
    },
    {
     "cell_type": "code",
     "collapsed": false,
     "input": [],
     "language": "python",
     "metadata": {},
     "outputs": [],
     "prompt_number": 185
    },
    {
     "cell_type": "code",
     "collapsed": false,
     "input": [],
     "language": "python",
     "metadata": {},
     "outputs": [],
     "prompt_number": 177
    },
    {
     "cell_type": "code",
     "collapsed": false,
     "input": [],
     "language": "python",
     "metadata": {},
     "outputs": [],
     "prompt_number": 177
    },
    {
     "cell_type": "code",
     "collapsed": false,
     "input": [],
     "language": "python",
     "metadata": {},
     "outputs": [],
     "prompt_number": 177
    },
    {
     "cell_type": "code",
     "collapsed": false,
     "input": [],
     "language": "python",
     "metadata": {},
     "outputs": [],
     "prompt_number": 177
    },
    {
     "cell_type": "code",
     "collapsed": false,
     "input": [],
     "language": "python",
     "metadata": {},
     "outputs": [],
     "prompt_number": 177
    },
    {
     "cell_type": "code",
     "collapsed": false,
     "input": [],
     "language": "python",
     "metadata": {},
     "outputs": [],
     "prompt_number": 177
    },
    {
     "cell_type": "code",
     "collapsed": false,
     "input": [],
     "language": "python",
     "metadata": {},
     "outputs": [],
     "prompt_number": 177
    },
    {
     "cell_type": "code",
     "collapsed": false,
     "input": [],
     "language": "python",
     "metadata": {},
     "outputs": []
    }
   ],
   "metadata": {}
  }
 ]
}